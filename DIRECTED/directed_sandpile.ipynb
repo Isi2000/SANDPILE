{
 "cells": [
  {
   "cell_type": "code",
   "execution_count": 89,
   "metadata": {},
   "outputs": [],
   "source": [
    "import numpy as np\n",
    "import matplotlib.pyplot as plt\n",
    "\n",
    "class Directed_Sandpile:\n",
    "    def __init__(self, longitudinal_size, transverse_size):\n",
    "        self.longitudinal_size = longitudinal_size\n",
    "        self.transverse_size = transverse_size\n",
    "        self.grid = np.zeros(longitudinal_size * transverse_size)        \n",
    "        size = longitudinal_size * transverse_size\n",
    "        self.toppling_matrix = np.zeros((size, size), dtype=int)\n",
    "        np.fill_diagonal(self.toppling_matrix, 2)        \n",
    "        # Set -1 for the downward neighbor (next row in the same column)\n",
    "        row_indices = np.arange(size - transverse_size)  # Exclude the last row\n",
    "        downward_indices = row_indices + transverse_size\n",
    "        self.toppling_matrix[row_indices, downward_indices] = -1\n",
    "        # Set -1 for the rightward periodic neighbor of the downward neighbor\n",
    "        rightward_indices = (downward_indices + 1) % self.transverse_size \\\n",
    "                            + (downward_indices // self.transverse_size) * self.transverse_size\n",
    "        rightward_indices = np.where(\n",
    "            (downward_indices % self.transverse_size) != (self.transverse_size - 1), \n",
    "            downward_indices + 1, \n",
    "            downward_indices - (self.transverse_size - 1)\n",
    "        )\n",
    "        self.toppling_matrix[row_indices, rightward_indices] = -1\n",
    "\n",
    "    \n",
    "    def grid_plotter(self):\n",
    "        return self.grid.reshape((self.longitudinal_size, self.transverse_size))"
   ]
  },
  {
   "cell_type": "code",
   "execution_count": 92,
   "metadata": {},
   "outputs": [
    {
     "data": {
      "text/plain": [
       "<matplotlib.image.AxesImage at 0x7b1d58292e30>"
      ]
     },
     "execution_count": 92,
     "metadata": {},
     "output_type": "execute_result"
    },
    {
     "data": {
      "image/png": "[encoded data removed]",
      "text/plain": [
       "<Figure size 640x480 with 1 Axes>"
      ]
     },
     "metadata": {},
     "output_type": "display_data"
    }
   ],
   "source": [
    "a = Directed_Sandpile(10,5)\n",
    "plt.imshow(a.toppling_matrix)"
   ]
  },
  {
   "cell_type": "code",
   "execution_count": null,
   "metadata": {},
   "outputs": [],
   "source": []
  }
 ],
 "metadata": {
  "kernelspec": {
   "display_name": "base",
   "language": "python",
   "name": "python3"
  },
  "language_info": {
   "codemirror_mode": {
    "name": "ipython",
    "version": 3
   },
   "file_extension": ".py",
   "mimetype": "text/x-python",
   "name": "python",
   "nbconvert_exporter": "python",
   "pygments_lexer": "ipython3",
   "version": "3.10.13"
  }
 },
 "nbformat": 4,
 "nbformat_minor": 2
}
