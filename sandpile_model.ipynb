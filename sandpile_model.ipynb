{
 "cells": [
  {
   "cell_type": "code",
   "execution_count": 11,
   "metadata": {},
   "outputs": [],
   "source": [
    "import numpy as np\n",
    "import matplotlib.pyplot as plt\n",
    "from tqdm import tqdm\n",
    "import os\n",
    "\n",
    "class Sandpile:\n",
    "    def __init__(self, grid_size):\n",
    "        self.grid_size = grid_size\n",
    "        self.grid = np.zeros((grid_size, grid_size), dtype=int)\n",
    "        self.t = 0\n",
    "    \n",
    "    def add_sand(self, x, y, grains=1):\n",
    "        self.grid[x, y] += grains\n",
    "        self.topple()\n",
    "        self.t += 1\n",
    "\n",
    "    def find_high_piles(self):\n",
    "        x, y = np.where(self.grid > 3)\n",
    "        return list(zip(x, y))\n",
    "\n",
    "        \n",
    "    def topple(self):\n",
    "        unstable = True\n",
    "        while unstable:\n",
    "            unstable = False\n",
    "            high_piles_coords = self.find_high_piles()\n",
    "            for x, y in high_piles_coords:\n",
    "                self.grid[x, y] -= 4\n",
    "                if x > 0: self.grid[x-1, y] += 1\n",
    "                if x < self.grid_size - 1: self.grid[x+1, y] += 1\n",
    "                if y > 0: self.grid[x, y-1] += 1\n",
    "                if y < self.grid_size - 1: self.grid[x, y+1] += 1\n",
    "            self.t += 1\n",
    "            if len(self.find_high_piles()) != 0:\n",
    "                unstable = True                \n",
    "\n",
    "    def get_grid(self):\n",
    "        return self.grid\n",
    "    \n",
    "    def three_d_histogram(self, num_iterations, dir_name):\n",
    "        os.makedirs(dir_name, exist_ok=True)\n",
    "        for i in tqdm(range(num_iterations)):\n",
    "            x = np.random.randint(0, self.grid_size)\n",
    "            y = np.random.randint(0, self.grid_size)\n",
    "            self.add_sand(x, y)\n",
    "\n",
    "            # Create a 3D histogram of the current grid state\n",
    "            fig = plt.figure()\n",
    "            ax = fig.add_subplot(111, projection='3d')\n",
    "\n",
    "            xpos, ypos = np.meshgrid(np.arange(self.grid_size), np.arange(self.grid_size))\n",
    "            xpos = xpos.flatten()\n",
    "            ypos = ypos.flatten()\n",
    "            zpos = np.zeros_like(xpos)\n",
    "\n",
    "            dx = dy = 1\n",
    "            dz = self.grid.flatten()\n",
    "\n",
    "            ax.bar3d(xpos, ypos, zpos, dx, dy, dz, cmap='viridis')\n",
    "\n",
    "            plt.title('Sandpile Model Histogram')\n",
    "            plt.savefig(os.path.join(dir_name, f'sandpile_histogram_{i}.png'))\n",
    "            plt.close()  # Close the plot to avoid memory issues\n"
   ]
  },
  {
   "cell_type": "code",
   "execution_count": 16,
   "metadata": {},
   "outputs": [
    {
     "name": "stderr",
     "output_type": "stream",
     "text": [
      "100%|██████████| 100/100 [00:00<00:00, 51168.77it/s]\n"
     ]
    },
    {
     "ename": "TypeError",
     "evalue": "Sandpile.three_d_histogram() missing 2 required positional arguments: 'num_iterations' and 'dir_name'",
     "output_type": "error",
     "traceback": [
      "\u001b[0;31m---------------------------------------------------------------------------\u001b[0m",
      "\u001b[0;31mTypeError\u001b[0m                                 Traceback (most recent call last)",
      "Cell \u001b[0;32mIn[16], line 13\u001b[0m\n\u001b[1;32m     10\u001b[0m \u001b[38;5;28;01mfor\u001b[39;00m coord \u001b[38;5;129;01min\u001b[39;00m tqdm(coordinates):\n\u001b[1;32m     11\u001b[0m     sandpile\u001b[38;5;241m.\u001b[39madd_sand(coord[\u001b[38;5;241m0\u001b[39m], coord[\u001b[38;5;241m1\u001b[39m])\n\u001b[0;32m---> 13\u001b[0m \u001b[43msandpile\u001b[49m\u001b[38;5;241;43m.\u001b[39;49m\u001b[43mthree_d_histogram\u001b[49m\u001b[43m(\u001b[49m\u001b[43m)\u001b[49m\n",
      "\u001b[0;31mTypeError\u001b[0m: Sandpile.three_d_histogram() missing 2 required positional arguments: 'num_iterations' and 'dir_name'"
     ]
    }
   ],
   "source": [
    "# Example usage\n",
    "grid_size = 10\n",
    "num_grains = 100\n",
    "\n",
    "sandpile = Sandpile(grid_size)\n",
    "\n",
    "# Generate 100 random (x, y) coordinates\n",
    "coordinates = np.random.randint(0, grid_size, size=(num_grains, 2))\n",
    "\n",
    "for coord in tqdm(coordinates):\n",
    "    sandpile.add_sand(coord[0], coord[1])\n",
    "    \n",
    "sandpile.three_d_histogram()"
   ]
  },
  {
   "cell_type": "code",
   "execution_count": null,
   "metadata": {},
   "outputs": [],
   "source": []
  }
 ],
 "metadata": {
  "kernelspec": {
   "display_name": "base",
   "language": "python",
   "name": "python3"
  },
  "language_info": {
   "codemirror_mode": {
    "name": "ipython",
    "version": 3
   },
   "file_extension": ".py",
   "mimetype": "text/x-python",
   "name": "python",
   "nbconvert_exporter": "python",
   "pygments_lexer": "ipython3",
   "version": "3.10.13"
  }
 },
 "nbformat": 4,
 "nbformat_minor": 2
}
