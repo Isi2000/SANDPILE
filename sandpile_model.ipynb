{
 "cells": [
  {
   "cell_type": "code",
   "execution_count": 249,
   "metadata": {},
   "outputs": [],
   "source": [
    "import numpy as np\n",
    "import matplotlib.pyplot as plt\n",
    "from tqdm import tqdm\n",
    "import os\n",
    "\n",
    "class Sandpile:\n",
    "    def __init__(self, grid_size):\n",
    "        self.grid_size = grid_size\n",
    "        self.grid = np.full((grid_size, grid_size), 3, dtype=int)\n",
    "        self.t = 0\n",
    "        self.pl_data = []\n",
    "    \n",
    "    def add_sand(self, x, y, grains=1):\n",
    "        self.grid[x, y] += grains\n",
    "        self.topple()\n",
    "\n",
    "    def find_high_piles(self):\n",
    "        x, y = np.where(self.grid > 4)\n",
    "        return list(zip(x, y))\n",
    "\n",
    "        \n",
    "    def topple(self):\n",
    "        unstable = True\n",
    "        num_affected_squares = 0\n",
    "        while unstable:\n",
    "            high_piles_coords = self.find_high_piles()\n",
    "            num_affected_squares += len(high_piles_coords)\n",
    "            for x, y in high_piles_coords:\n",
    "                self.grid[x, y] -= 4\n",
    "                if x > 0: self.grid[x-1, y] += 1\n",
    "                if x < self.grid_size - 1: self.grid[x+1, y] += 1\n",
    "                if y > 0: self.grid[x, y-1] += 1\n",
    "                if y < self.grid_size - 1: self.grid[x, y+1] += 1\n",
    "                        \n",
    "            if len(self.find_high_piles()) == 0:\n",
    "                unstable = False\n",
    "                self.t += 1\n",
    "                \n",
    "        self.pl_data.append(num_affected_squares)\n",
    "\n",
    "    \n",
    "\n",
    "\n",
    "\n",
    "    def get_grid(self):\n",
    "        return self.grid\n",
    "    \n",
    "    def three_d_histogram(self, save = True, dir_name = \"3d\", image_name = \"hist_3d.png\"):\n",
    "            fig = plt.figure()\n",
    "            ax = fig.add_subplot(111, projection='3d')\n",
    "            xpos, ypos = np.meshgrid(np.arange(self.grid_size), np.arange(self.grid_size))\n",
    "            xpos = xpos.flatten()\n",
    "            ypos = ypos.flatten()\n",
    "            zpos = np.zeros_like(xpos)\n",
    "            dx = dy = 1\n",
    "            dz = self.grid.flatten()\n",
    "            ax.set_zlim(0, 4)\n",
    "            ax.bar3d(xpos, ypos, zpos, dx, dy, dz, cmap='viridis')\n",
    "            plt.title('Sandpile Model Histogram')\n",
    "            if save == True:\n",
    "                plt.savefig(os.path.join(dir_name, image_name))\n",
    "                plt.close()  # Close the plot to avoid memory issues\n",
    "            else:\n",
    "                plt.show()    "
   ]
  },
  {
   "cell_type": "code",
   "execution_count": 250,
   "metadata": {},
   "outputs": [],
   "source": [
    "def run_simulations(grid_size, num_grains, num_simulations):\n",
    "    all_pl_data = []\n",
    "\n",
    "    for _ in tqdm(range(num_simulations), desc=\"Running simulations\"):\n",
    "        sandpile = Sandpile(grid_size)\n",
    "        coordinates = np.random.randint(0, grid_size, size=(num_grains, 2))\n",
    "\n",
    "        for coord in coordinates:\n",
    "            sandpile.add_sand(coord[0], coord[1])\n",
    "\n",
    "        all_pl_data.append(sandpile.pl_data)\n",
    "\n",
    "    return all_pl_data\n",
    "\n",
    "def average_data(d):\n",
    "    d = np.swapaxes(d, 1, 0)\n",
    "    return d.mean(axis=1)"
   ]
  },
  {
   "cell_type": "code",
   "execution_count": 252,
   "metadata": {},
   "outputs": [
    {
     "name": "stderr",
     "output_type": "stream",
     "text": [
      "Running simulations: 100%|██████████| 200/200 [10:33<00:00,  3.17s/it]\n"
     ]
    }
   ],
   "source": [
    "# Example usage\n",
    "grid_size = 50\n",
    "num_grains = 10000\n",
    "num_simulations = 200\n",
    "dir_name = \"3d\"\n",
    "os.makedirs(dir_name, exist_ok=True)\n",
    "\n",
    "# Run multiple simulations and gather data\n",
    "all_simulation_data = run_simulations(grid_size, num_grains, num_simulations)\n",
    "\n"
   ]
  },
  {
   "cell_type": "code",
   "execution_count": 254,
   "metadata": {},
   "outputs": [
    {
     "name": "stdout",
     "output_type": "stream",
     "text": [
      "10000\n"
     ]
    }
   ],
   "source": [
    "d = average_data(all_simulation_data)\n",
    "print(len(d))"
   ]
  },
  {
   "cell_type": "code",
   "execution_count": 255,
   "metadata": {},
   "outputs": [
    {
     "name": "stderr",
     "output_type": "stream",
     "text": [
      "/tmp/ipykernel_12528/3791036315.py:3: RuntimeWarning: divide by zero encountered in log\n",
      "  log_y = np.log(sorted_data)\n"
     ]
    },
    {
     "data": {
      "image/png": "[encoded data removed]",
      "text/plain": [
       "<Figure size 640x480 with 1 Axes>"
      ]
     },
     "metadata": {},
     "output_type": "display_data"
    }
   ],
   "source": [
    "# Sort and log-transform the data\n",
    "sorted_data = sorted(d, reverse=True)\n",
    "log_y = np.log(sorted_data)\n",
    "\n",
    "\n",
    "# Plot the results\n",
    "plt.figure()\n",
    "plt.plot(np.arange(len(log_y)), log_y, marker='o', linestyle='none', markersize=3)\n",
    "plt.xlabel('Rank')\n",
    "plt.ylabel('log(Cluster Size)')\n",
    "plt.title('Log-Log Plot of Averaged Cluster Sizes')\n",
    "plt.show()"
   ]
  },
  {
   "cell_type": "code",
   "execution_count": null,
   "metadata": {},
   "outputs": [],
   "source": []
  },
  {
   "cell_type": "code",
   "execution_count": null,
   "metadata": {},
   "outputs": [],
   "source": []
  }
 ],
 "metadata": {
  "kernelspec": {
   "display_name": "base",
   "language": "python",
   "name": "python3"
  },
  "language_info": {
   "codemirror_mode": {
    "name": "ipython",
    "version": 3
   },
   "file_extension": ".py",
   "mimetype": "text/x-python",
   "name": "python",
   "nbconvert_exporter": "python",
   "pygments_lexer": "ipython3",
   "version": "3.12.4"
  }
 },
 "nbformat": 4,
 "nbformat_minor": 2
}
